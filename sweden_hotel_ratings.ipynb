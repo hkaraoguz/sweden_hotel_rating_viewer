{
 "cells": [
  {
   "cell_type": "markdown",
   "id": "b44aaa4d",
   "metadata": {},
   "source": [
    "### An example notebook that calculates average hotel ratings for cities in Sweden and displays it on interactive kepler.gl map"
   ]
  },
  {
   "cell_type": "code",
   "execution_count": null,
   "id": "e7e6dff2",
   "metadata": {},
   "outputs": [],
   "source": [
    "import pandas as pd\n",
    "import datetime\n",
    "from booking_scraper import bkscraper\n",
    "from keplergl import KeplerGl\n",
    "import math"
   ]
  },
  {
   "cell_type": "markdown",
   "id": "db478b2f",
   "metadata": {},
   "source": [
    "### Read dataframe"
   ]
  },
  {
   "cell_type": "code",
   "execution_count": null,
   "id": "2aaa8e03",
   "metadata": {},
   "outputs": [],
   "source": [
    "df = pd.read_csv('se.csv')"
   ]
  },
  {
   "cell_type": "code",
   "execution_count": null,
   "id": "70e56928",
   "metadata": {},
   "outputs": [],
   "source": [
    "df.head(10)"
   ]
  },
  {
   "cell_type": "markdown",
   "id": "78541719",
   "metadata": {},
   "source": [
    "### Calculate average hotel ratings"
   ]
  },
  {
   "cell_type": "code",
   "execution_count": null,
   "id": "965747e9",
   "metadata": {},
   "outputs": [],
   "source": [
    "def calculate_average_hotel_rating(city):\n",
    "    '''Calculates the average hotel rating given a city name in Sweden.\n",
    "    Args:\n",
    "        city: a city name in Sweden\n",
    "    Returns:\n",
    "        Average hotel rating if at least 5 hotels with scores is found, 0 otherwise\n",
    "    '''\n",
    "    \n",
    "    today = datetime.datetime.now()\n",
    "    start_date = today + datetime.timedelta(7)\n",
    "    end_date = start_date + datetime.timedelta(7)\n",
    "    result = bkscraper.get_result(city=city,  country='Sweden', datein=start_date, dateout=end_date, limit=-1, detail=False, is_verbose=False)\n",
    "    scores = []\n",
    "    for hotel in result:\n",
    "        if hotel.get('score'):\n",
    "            scores.append(float(hotel['score'].replace(',','.')))\n",
    "    if len(scores) > 4:\n",
    "        return sum(scores)/len(scores)\n",
    "    return 0.0"
   ]
  },
  {
   "cell_type": "code",
   "execution_count": null,
   "id": "af7469bd",
   "metadata": {},
   "outputs": [],
   "source": [
    "df['average_hotel_rating'] = df.city.apply(lambda x: calculate_average_hotel_rating(x))\n"
   ]
  },
  {
   "cell_type": "code",
   "execution_count": null,
   "id": "2e170aa5",
   "metadata": {},
   "outputs": [],
   "source": [
    "# Use exp in order to amplify the differences between average ratings \n",
    "df['exp_average_hotel_rating'] = df.average_hotel_rating.apply(lambda x : math.exp(x))"
   ]
  },
  {
   "cell_type": "markdown",
   "id": "d48691da",
   "metadata": {},
   "source": [
    "### FIlter the cities with no scores"
   ]
  },
  {
   "cell_type": "code",
   "execution_count": null,
   "id": "c11480a4",
   "metadata": {},
   "outputs": [],
   "source": [
    "df = df[df.exp_average_hotel_rating > 1]"
   ]
  },
  {
   "cell_type": "markdown",
   "id": "5c7b4d33",
   "metadata": {},
   "source": [
    "### Save the results for later use"
   ]
  },
  {
   "cell_type": "code",
   "execution_count": null,
   "id": "63305552",
   "metadata": {},
   "outputs": [],
   "source": [
    "df.to_csv('sweden_hotel_ratings.csv', index=False)"
   ]
  },
  {
   "cell_type": "code",
   "execution_count": null,
   "id": "6a033987",
   "metadata": {},
   "outputs": [],
   "source": [
    "df = pd.read_csv('sweden_hotel_ratings.csv')"
   ]
  },
  {
   "cell_type": "code",
   "execution_count": null,
   "id": "d5bd1ce3",
   "metadata": {},
   "outputs": [],
   "source": [
    "df.head(5)"
   ]
  },
  {
   "cell_type": "markdown",
   "id": "a62439de",
   "metadata": {},
   "source": [
    "### Display the map"
   ]
  },
  {
   "cell_type": "code",
   "execution_count": null,
   "id": "874e817e",
   "metadata": {},
   "outputs": [],
   "source": [
    "from map_config import config"
   ]
  },
  {
   "cell_type": "code",
   "execution_count": null,
   "id": "550b7a26",
   "metadata": {},
   "outputs": [],
   "source": [
    "# Load an empty map\n",
    "map_1 = KeplerGl(height=500, data={'sweden_hotel_rating_data': df})\n",
    "map_1.config = config\n",
    "map_1"
   ]
  },
  {
   "cell_type": "markdown",
   "id": "190ae293",
   "metadata": {},
   "source": [
    "### Save the map"
   ]
  },
  {
   "cell_type": "code",
   "execution_count": null,
   "id": "c47036b4",
   "metadata": {},
   "outputs": [],
   "source": [
    "map_1.save_to_html(data={'sweden_hotel_rating_data': df}, file_name='sweden_hotel_rating_map.html')\n"
   ]
  }
 ],
 "metadata": {
  "interpreter": {
   "hash": "644ac2949df7543526ffed78c6b5cc66879788fa49f1d36eca3947b78b9f9ef4"
  },
  "kernelspec": {
   "display_name": "traffic",
   "language": "python",
   "name": "traffic"
  },
  "language_info": {
   "codemirror_mode": {
    "name": "ipython",
    "version": 3
   },
   "file_extension": ".py",
   "mimetype": "text/x-python",
   "name": "python",
   "nbconvert_exporter": "python",
   "pygments_lexer": "ipython3",
   "version": "3.7.2"
  }
 },
 "nbformat": 4,
 "nbformat_minor": 5
}
